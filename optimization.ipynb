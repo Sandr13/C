{
  "nbformat": 4,
  "nbformat_minor": 0,
  "metadata": {
    "colab": {
      "name": "optimization.ipynb",
      "provenance": [],
      "collapsed_sections": []
    },
    "kernelspec": {
      "name": "python3",
      "display_name": "Python 3"
    },
    "language_info": {
      "name": "python"
    }
  },
  "cells": [
    {
      "cell_type": "code",
      "execution_count": 4,
      "metadata": {
        "colab": {
          "base_uri": "https://localhost:8080/"
        },
        "id": "IqcwkbQRqyQ8",
        "outputId": "7e13ae29-13e8-4d99-a080-f6ab85c11f79"
      },
      "outputs": [
        {
          "output_type": "stream",
          "name": "stdout",
          "text": [
            "Looking in indexes: https://pypi.org/simple, https://us-python.pkg.dev/colab-wheels/public/simple/\n",
            "Requirement already satisfied: ipython-autotime in /usr/local/lib/python3.7/dist-packages (0.3.1)\n",
            "Requirement already satisfied: ipython in /usr/local/lib/python3.7/dist-packages (from ipython-autotime) (5.5.0)\n",
            "Requirement already satisfied: setuptools>=18.5 in /usr/local/lib/python3.7/dist-packages (from ipython->ipython-autotime) (57.4.0)\n",
            "Requirement already satisfied: decorator in /usr/local/lib/python3.7/dist-packages (from ipython->ipython-autotime) (4.4.2)\n",
            "Requirement already satisfied: simplegeneric>0.8 in /usr/local/lib/python3.7/dist-packages (from ipython->ipython-autotime) (0.8.1)\n",
            "Requirement already satisfied: pexpect in /usr/local/lib/python3.7/dist-packages (from ipython->ipython-autotime) (4.8.0)\n",
            "Requirement already satisfied: prompt-toolkit<2.0.0,>=1.0.4 in /usr/local/lib/python3.7/dist-packages (from ipython->ipython-autotime) (1.0.18)\n",
            "Requirement already satisfied: pygments in /usr/local/lib/python3.7/dist-packages (from ipython->ipython-autotime) (2.6.1)\n",
            "Requirement already satisfied: traitlets>=4.2 in /usr/local/lib/python3.7/dist-packages (from ipython->ipython-autotime) (5.1.1)\n",
            "Requirement already satisfied: pickleshare in /usr/local/lib/python3.7/dist-packages (from ipython->ipython-autotime) (0.7.5)\n",
            "Requirement already satisfied: wcwidth in /usr/local/lib/python3.7/dist-packages (from prompt-toolkit<2.0.0,>=1.0.4->ipython->ipython-autotime) (0.2.5)\n",
            "Requirement already satisfied: six>=1.9.0 in /usr/local/lib/python3.7/dist-packages (from prompt-toolkit<2.0.0,>=1.0.4->ipython->ipython-autotime) (1.15.0)\n",
            "Requirement already satisfied: ptyprocess>=0.5 in /usr/local/lib/python3.7/dist-packages (from pexpect->ipython->ipython-autotime) (0.7.0)\n",
            "The cython extension is already loaded. To reload it, use:\n",
            "  %reload_ext cython\n",
            "The autotime extension is already loaded. To reload it, use:\n",
            "  %reload_ext autotime\n",
            "time: 3.04 s (started: 2022-06-26 21:04:03 +00:00)\n"
          ]
        }
      ],
      "source": [
        "!pip install ipython-autotime\n",
        "\n",
        "%load_ext cython\n",
        "%load_ext autotime\n",
        "\n",
        "from random import random\n",
        "import numpy as np"
      ]
    },
    {
      "cell_type": "markdown",
      "source": [
        "Входные данные для примера №1:"
      ],
      "metadata": {
        "id": "AnbOuqsk9Wth"
      }
    },
    {
      "cell_type": "code",
      "source": [
        "import random\n",
        "\n",
        "N = 1000\n",
        "array = [random.randint(1, 999) for _ in range(N)]"
      ],
      "metadata": {
        "colab": {
          "base_uri": "https://localhost:8080/"
        },
        "id": "K-4iadd19aG3",
        "outputId": "eceb8a9c-caa6-4759-ee8e-0fe4d5884afb"
      },
      "execution_count": 58,
      "outputs": [
        {
          "output_type": "stream",
          "name": "stdout",
          "text": [
            "time: 4.15 ms (started: 2022-06-26 21:56:37 +00:00)\n"
          ]
        }
      ]
    },
    {
      "cell_type": "markdown",
      "source": [
        "Функция сортировки выбором на **Python**:"
      ],
      "metadata": {
        "id": "9VfAs2W22MNY"
      }
    },
    {
      "cell_type": "code",
      "source": [
        "def python_sel_sort(array):\n",
        "    n = len(array)\n",
        "    for i in range(n - 1):\n",
        "        m = i\n",
        "        j = i + 1\n",
        "        while j < n:\n",
        "            if array[j] < array[m]:\n",
        "                m = j\n",
        "            j = j + 1\n",
        "        array[i], array[m] = array[m], array[i]\n",
        "    return array"
      ],
      "metadata": {
        "colab": {
          "base_uri": "https://localhost:8080/"
        },
        "id": "F6QOJXhUtl5h",
        "outputId": "5aba3758-4c38-48a8-fbce-740cf2902161"
      },
      "execution_count": 66,
      "outputs": [
        {
          "output_type": "stream",
          "name": "stdout",
          "text": [
            "time: 4.33 ms (started: 2022-06-26 21:58:04 +00:00)\n"
          ]
        }
      ]
    },
    {
      "cell_type": "markdown",
      "source": [
        "Функция сортировки выбором на **Cython**:"
      ],
      "metadata": {
        "id": "clv5B2B62S0o"
      }
    },
    {
      "cell_type": "code",
      "source": [
        "%%cython\n",
        "import copy\n",
        "\n",
        "def cython_sel_sort(array):\n",
        "    cdef int n = len(array)\n",
        "    for i in range(n - 1):\n",
        "        m = i\n",
        "        j = i + 1\n",
        "        while j < n:\n",
        "            if array[j] < array[m]:\n",
        "                m = j\n",
        "            j = j + 1\n",
        "        array[i], array[m] = array[m], array[i]\n",
        "    return array"
      ],
      "metadata": {
        "colab": {
          "base_uri": "https://localhost:8080/"
        },
        "id": "I2sZ2s_02a9L",
        "outputId": "38979057-f694-451b-981d-a16e86e4b121"
      },
      "execution_count": 67,
      "outputs": [
        {
          "output_type": "stream",
          "name": "stdout",
          "text": [
            "time: 3.79 ms (started: 2022-06-26 21:58:06 +00:00)\n"
          ]
        }
      ]
    },
    {
      "cell_type": "code",
      "source": [
        "array = python_sel_sort(array)"
      ],
      "metadata": {
        "colab": {
          "base_uri": "https://localhost:8080/"
        },
        "id": "ndBNjWQG9ob-",
        "outputId": "1978c7ea-0e03-47f0-89ac-209995ada167"
      },
      "execution_count": 68,
      "outputs": [
        {
          "output_type": "stream",
          "name": "stdout",
          "text": [
            "time: 85.3 ms (started: 2022-06-26 21:58:08 +00:00)\n"
          ]
        }
      ]
    },
    {
      "cell_type": "code",
      "source": [
        "array = cython_sel_sort(array)"
      ],
      "metadata": {
        "colab": {
          "base_uri": "https://localhost:8080/"
        },
        "id": "9efQ0MqR-nWC",
        "outputId": "ceae7ca8-8496-4102-aba0-1d985e785723"
      },
      "execution_count": 69,
      "outputs": [
        {
          "output_type": "stream",
          "name": "stdout",
          "text": [
            "time: 39.7 ms (started: 2022-06-26 21:58:10 +00:00)\n"
          ]
        }
      ]
    },
    {
      "cell_type": "markdown",
      "source": [
        "За счёт замены типа данных переменной n, удалось уменьшить время работы программы более чем в 2 раза."
      ],
      "metadata": {
        "id": "AiQaHCpJ9Oer"
      }
    },
    {
      "cell_type": "markdown",
      "source": [
        "Входные данные для примера №2:"
      ],
      "metadata": {
        "id": "9DTnd9Ip6itM"
      }
    },
    {
      "cell_type": "code",
      "source": [
        "f = lambda x: x ** 2 - x\n",
        "a = 10\n",
        "b = 20\n",
        "N = 1000"
      ],
      "metadata": {
        "colab": {
          "base_uri": "https://localhost:8080/"
        },
        "id": "wRSZfTWd6iTq",
        "outputId": "ffea2987-b2fb-4072-eae7-e7eaade79fa8"
      },
      "execution_count": 70,
      "outputs": [
        {
          "output_type": "stream",
          "name": "stdout",
          "text": [
            "time: 2.04 ms (started: 2022-06-26 21:59:07 +00:00)\n"
          ]
        }
      ]
    },
    {
      "cell_type": "markdown",
      "source": [
        "Функция интегрирования на **Python**:"
      ],
      "metadata": {
        "id": "R2km49cO5ZpS"
      }
    },
    {
      "cell_type": "code",
      "source": [
        "import scipy.integrate as integrate\n",
        "\n",
        "def python_integrate_f(f, a, b):\n",
        "    return integrate.quad(f, a, b)"
      ],
      "metadata": {
        "colab": {
          "base_uri": "https://localhost:8080/"
        },
        "id": "nNWiFPE45vQQ",
        "outputId": "9747a844-4b93-46bd-c06a-d6997ddda866"
      },
      "execution_count": 85,
      "outputs": [
        {
          "output_type": "stream",
          "name": "stdout",
          "text": [
            "time: 2.19 ms (started: 2022-06-26 22:00:05 +00:00)\n"
          ]
        }
      ]
    },
    {
      "cell_type": "markdown",
      "source": [
        "Функция интегрирования на **Cython**:"
      ],
      "metadata": {
        "id": "Ir0qkzTn5v5f"
      }
    },
    {
      "cell_type": "code",
      "source": [
        "%%cython\n",
        "\n",
        "def cython_integrate_f(f, a, b, N):\n",
        "    cdef int i\n",
        "    cdef double s, dx\n",
        "    s = 0\n",
        "    dx = (b - a) / N\n",
        "    for i in range(N):\n",
        "        s += f(a + i * dx)\n",
        "    return s * dx"
      ],
      "metadata": {
        "colab": {
          "base_uri": "https://localhost:8080/"
        },
        "id": "IP0UUx7o5BV3",
        "outputId": "12bff6a0-99af-4ac8-c88c-15e3d3c9b651"
      },
      "execution_count": 82,
      "outputs": [
        {
          "output_type": "stream",
          "name": "stdout",
          "text": [
            "time: 4.11 ms (started: 2022-06-26 21:59:58 +00:00)\n"
          ]
        }
      ]
    },
    {
      "cell_type": "code",
      "source": [
        "integral = python_integrate_f(f, a, b)"
      ],
      "metadata": {
        "colab": {
          "base_uri": "https://localhost:8080/"
        },
        "id": "LiEkSE9X53Jt",
        "outputId": "e583c9c8-62e9-4331-9c06-1b1921c077c7"
      },
      "execution_count": 106,
      "outputs": [
        {
          "output_type": "stream",
          "name": "stdout",
          "text": [
            "time: 3.49 ms (started: 2022-06-26 22:01:48 +00:00)\n"
          ]
        }
      ]
    },
    {
      "cell_type": "code",
      "source": [
        "integral = cython_integrate_f(f, a, b, N)"
      ],
      "metadata": {
        "colab": {
          "base_uri": "https://localhost:8080/"
        },
        "id": "9dRsGdoXB-lM",
        "outputId": "94938949-7c58-46da-c908-596a098a2c9c"
      },
      "execution_count": 110,
      "outputs": [
        {
          "output_type": "stream",
          "name": "stdout",
          "text": [
            "time: 1.35 ms (started: 2022-06-26 22:01:57 +00:00)\n"
          ]
        }
      ]
    },
    {
      "cell_type": "markdown",
      "source": [
        "В первом случае мы считаем интеграл с помощью SciPy, во втором считаем вручную, но используем переменные Cython. Как итог: нам удалось уменьшить время работы программы более чем в 2 раза."
      ],
      "metadata": {
        "id": "K3vNEO2QCX0B"
      }
    }
  ]
}